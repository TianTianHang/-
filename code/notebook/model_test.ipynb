{
 "cells": [
  {
   "cell_type": "code",
   "outputs": [],
   "source": [
    "import torch\n",
    "print(torch.__version__)\n",
    "device = \"cuda:0\" if torch.cuda.is_available() else \"cpu\"\n",
    "device"
   ],
   "metadata": {
    "collapsed": false
   },
   "id": "373777f75ca5a1b3",
   "execution_count": null
  },
  {
   "cell_type": "markdown",
   "source": [
    "定义参数"
   ],
   "metadata": {
    "collapsed": false
   },
   "id": "ffde2b3ef49130d3"
  },
  {
   "cell_type": "code",
   "outputs": [],
   "source": [
    "model_name=\"Helsinki-NLP/opus-mt-en-cs\"\n",
    "source_lang=\"en\"\n",
    "target_lang=\"cs\"\n",
    "dataset_name=\"wmt16\""
   ],
   "metadata": {
    "collapsed": false
   },
   "id": "809ab033b1652a51",
   "execution_count": null
  },
  {
   "cell_type": "markdown",
   "source": [
    "下载读取WMT数据集"
   ],
   "metadata": {
    "collapsed": false
   },
   "id": "e96562848f5ff1bd"
  },
  {
   "cell_type": "code",
   "outputs": [],
   "source": [
    "from datasets import load_dataset\n",
    "\n",
    "# Download the WMT dataset\n",
    "dataset = load_dataset(dataset_name, f\"cs-en\")\n",
    "translation=dataset[\"test\"][\"translation\"]\n",
    "source_texts = [t[source_lang] for t in translation]  # Adjust the size as needed\n",
    "reference_texts = [t[target_lang] for t in translation]"
   ],
   "metadata": {
    "collapsed": false
   },
   "id": "ee7e9c71f47a8d87",
   "execution_count": null
  },
  {
   "cell_type": "markdown",
   "source": [
    "测试模型"
   ],
   "metadata": {
    "collapsed": false
   },
   "id": "2859169c5dd10afe"
  },
  {
   "cell_type": "code",
   "outputs": [],
   "source": [
    "from transformers import pipeline\n",
    "translation_pipeline = pipeline(task=\"translation\", model=model_name,device=device)\n",
    "translation_pipeline('hello world')"
   ],
   "metadata": {
    "collapsed": false
   },
   "id": "faeca7c60c23c66b",
   "execution_count": null
  },
  {
   "cell_type": "markdown",
   "source": [
    "生成翻译句子"
   ],
   "metadata": {
    "collapsed": false
   },
   "id": "ee790a5370af3523"
  },
  {
   "cell_type": "code",
   "outputs": [],
   "source": [
    "import pandas as pd\n",
    "translations = translation_pipeline(source_texts, src_lang=source_lang,tgt_lang=target_lang)\n",
    "translations = [translation['translation_text'] for translation in translations]\n",
    "# 输出翻译结果\n",
    "df = pd.DataFrame({\n",
    "    'Source': source_texts,\n",
    "    'Translation': translations\n",
    "})\n",
    "df"
   ],
   "metadata": {
    "collapsed": false,
    "is_executing": true
   },
   "id": "23e5f69c3cbb9f9c",
   "execution_count": null
  },
  {
   "cell_type": "markdown",
   "source": [
    "使用sacrebleu评价模型"
   ],
   "metadata": {
    "collapsed": false
   },
   "id": "6bb0454bef377196"
  },
  {
   "cell_type": "code",
   "outputs": [],
   "source": [
    "import sacrebleu\n",
    "bleu_score = sacrebleu.corpus_bleu(translations, [reference_texts]).score\n",
    "f\"BLEU Score: {bleu_score}\""
   ],
   "metadata": {
    "collapsed": false,
    "is_executing": true
   },
   "id": "f31f8e7e6a19addd",
   "execution_count": null
  },
  {
   "cell_type": "markdown",
   "source": [
    "写入文件"
   ],
   "metadata": {
    "collapsed": false
   },
   "id": "fe8d0e692d351074"
  },
  {
   "cell_type": "code",
   "outputs": [],
   "source": [
    "with open(\"./BLEU_result.txt\",\"a\",encoding=\"utf-8\") as f:\n",
    "    f.write(f\"\\n{model_name} {source_lang} {target_lang} {bleu_score}\")"
   ],
   "metadata": {
    "collapsed": false,
    "is_executing": true
   },
   "id": "1ea7ef64ed08ec44",
   "execution_count": null
  }
 ],
 "metadata": {
  "kernelspec": {
   "display_name": "Python 3",
   "language": "python",
   "name": "python3"
  },
  "language_info": {
   "codemirror_mode": {
    "name": "ipython",
    "version": 2
   },
   "file_extension": ".py",
   "mimetype": "text/x-python",
   "name": "python",
   "nbconvert_exporter": "python",
   "pygments_lexer": "ipython2",
   "version": "2.7.6"
  }
 },
 "nbformat": 4,
 "nbformat_minor": 5
}
