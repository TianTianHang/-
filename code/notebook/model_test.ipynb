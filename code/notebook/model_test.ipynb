{
 "cells": [
  {
   "cell_type": "code",
   "execution_count": 2,
   "id": "373777f75ca5a1b3",
   "metadata": {
    "ExecuteTime": {
     "end_time": "2024-02-05T02:19:53.626118200Z",
     "start_time": "2024-02-05T02:19:43.864267600Z"
    },
    "collapsed": false
   },
   "outputs": [
    {
     "name": "stdout",
     "output_type": "stream",
     "text": [
      "2.2.0\n"
     ]
    },
    {
     "data": {
      "text/plain": [
       "'cpu'"
      ]
     },
     "execution_count": 2,
     "metadata": {},
     "output_type": "execute_result"
    }
   ],
   "source": [
    "import torch\n",
    "print(torch.__version__)\n",
    "device = \"cuda:0\" if torch.cuda.is_available() else \"cpu\"\n",
    "device"
   ]
  },
  {
   "cell_type": "markdown",
   "id": "ffde2b3ef49130d3",
   "metadata": {
    "collapsed": false
   },
   "source": [
    "定义参数"
   ]
  },
  {
   "cell_type": "code",
   "execution_count": 3,
   "id": "809ab033b1652a51",
   "metadata": {
    "ExecuteTime": {
     "end_time": "2024-02-05T05:51:34.583287600Z",
     "start_time": "2024-02-05T05:51:34.577976Z"
    },
    "collapsed": false
   },
   "outputs": [],
   "source": [
    "model_name=\"jbochi/madlad400-3b-mt\"\n",
    "source_lang=\"en\"\n",
    "target_lang=\"de\"\n",
    "dataset_name=\"wmt16\""
   ]
  },
  {
   "cell_type": "markdown",
   "id": "e96562848f5ff1bd",
   "metadata": {
    "collapsed": false
   },
   "source": [
    "下载读取WMT数据集"
   ]
  },
  {
   "cell_type": "code",
   "execution_count": 4,
   "id": "ee7e9c71f47a8d87",
   "metadata": {
    "ExecuteTime": {
     "end_time": "2024-02-05T04:31:05.057330800Z",
     "start_time": "2024-02-05T04:30:58.775207700Z"
    },
    "collapsed": false
   },
   "outputs": [
    {
     "name": "stderr",
     "output_type": "stream",
     "text": [
      "Found cached dataset wmt16 (C:/Users/tiantian/.cache/huggingface/datasets/wmt16/de-en/1.0.0/746749a11d25c02058042da7502d973ff410e73457f3d305fc1177dc0e8c4227)\n"
     ]
    },
    {
     "data": {
      "application/vnd.jupyter.widget-view+json": {
       "model_id": "e0b133e6b2da48098af40851c44df533",
       "version_major": 2,
       "version_minor": 0
      },
      "text/plain": [
       "  0%|          | 0/3 [00:00<?, ?it/s]"
      ]
     },
     "metadata": {},
     "output_type": "display_data"
    }
   ],
   "source": [
    "from datasets import load_dataset\n",
    "\n",
    "# Download the WMT dataset\n",
    "dataset = load_dataset(dataset_name, f\"de-en\")\n",
    "translation=dataset[\"test\"][\"translation\"][:100]\n",
    "source_texts = [t[source_lang] for t in translation]  # Adjust the size as needed\n",
    "reference_texts = [t[target_lang] for t in translation]\n",
    "del dataset\n",
    "del translation"
   ]
  },
  {
   "cell_type": "markdown",
   "id": "2859169c5dd10afe",
   "metadata": {
    "collapsed": false
   },
   "source": [
    "测试模型"
   ]
  },
  {
   "cell_type": "code",
   "execution_count": 10,
   "id": "fd358fa6",
   "metadata": {},
   "outputs": [],
   "source": [
    "kwargs=dict(num_workers=0,batch_size=16,src_lang='en',\n",
    "    tgt_lang='de',max_length=400)"
   ]
  },
  {
   "cell_type": "code",
   "execution_count": 6,
   "id": "faeca7c60c23c66b",
   "metadata": {
    "ExecuteTime": {
     "end_time": "2024-02-05T06:27:48.839210500Z",
     "start_time": "2024-02-05T06:25:12.807381700Z"
    },
    "collapsed": false
   },
   "outputs": [
    {
     "data": {
      "text/plain": [
       "[{'translation_text': 'Hallo Welt!'}]"
      ]
     },
     "execution_count": 6,
     "metadata": {},
     "output_type": "execute_result"
    }
   ],
   "source": [
    "from transformers import pipeline\n",
    "\n",
    "translation_pipeline = pipeline(task=f\"translation\", model=model_name,device=device)\n",
    "translation_pipeline('<2de> hello world', **kwargs)"
   ]
  },
  {
   "cell_type": "markdown",
   "id": "ee790a5370af3523",
   "metadata": {
    "collapsed": false
   },
   "source": [
    "生成翻译句子"
   ]
  },
  {
   "cell_type": "code",
   "execution_count": 11,
   "id": "23e5f69c3cbb9f9c",
   "metadata": {
    "ExecuteTime": {
     "start_time": "2024-02-05T06:02:47.082482200Z"
    },
    "collapsed": false
   },
   "outputs": [
    {
     "data": {
      "text/html": [
       "<div>\n",
       "<style scoped>\n",
       "    .dataframe tbody tr th:only-of-type {\n",
       "        vertical-align: middle;\n",
       "    }\n",
       "\n",
       "    .dataframe tbody tr th {\n",
       "        vertical-align: top;\n",
       "    }\n",
       "\n",
       "    .dataframe thead th {\n",
       "        text-align: right;\n",
       "    }\n",
       "</style>\n",
       "<table border=\"1\" class=\"dataframe\">\n",
       "  <thead>\n",
       "    <tr style=\"text-align: right;\">\n",
       "      <th></th>\n",
       "      <th>Source</th>\n",
       "      <th>Translation</th>\n",
       "    </tr>\n",
       "  </thead>\n",
       "  <tbody>\n",
       "    <tr>\n",
       "      <th>0</th>\n",
       "      <td>Obama receives Netanyahu</td>\n",
       "      <td>Obama empfängt Netanjahu</td>\n",
       "    </tr>\n",
       "    <tr>\n",
       "      <th>1</th>\n",
       "      <td>The relationship between Obama and Netanyahu i...</td>\n",
       "      <td>Die Beziehung zwischen Obama und Netanjahu ist...</td>\n",
       "    </tr>\n",
       "    <tr>\n",
       "      <th>2</th>\n",
       "      <td>The two wanted to talk about the implementatio...</td>\n",
       "      <td>Die beiden wollten über die Umsetzung des inte...</td>\n",
       "    </tr>\n",
       "    <tr>\n",
       "      <th>3</th>\n",
       "      <td>The meeting was also planned to cover the conf...</td>\n",
       "      <td>Geplant war auch, den Konflikt mit den Palästi...</td>\n",
       "    </tr>\n",
       "    <tr>\n",
       "      <th>4</th>\n",
       "      <td>Relations between Obama and Netanyahu have bee...</td>\n",
       "      <td>Die Beziehungen zwischen Obama und Netanjahu s...</td>\n",
       "    </tr>\n",
       "    <tr>\n",
       "      <th>...</th>\n",
       "      <td>...</td>\n",
       "      <td>...</td>\n",
       "    </tr>\n",
       "    <tr>\n",
       "      <th>95</th>\n",
       "      <td>Others have dismissed him as a joke.</td>\n",
       "      <td>Andere haben ihn als Witz abgetan.</td>\n",
       "    </tr>\n",
       "    <tr>\n",
       "      <th>96</th>\n",
       "      <td>And some are holding out for an implosion.</td>\n",
       "      <td>Und einige halten sich für eine Implosion bereit.</td>\n",
       "    </tr>\n",
       "    <tr>\n",
       "      <th>97</th>\n",
       "      <td>But no matter how some Republicans are trying ...</td>\n",
       "      <td>Aber egal wie sehr einige Republikaner versuch...</td>\n",
       "    </tr>\n",
       "    <tr>\n",
       "      <th>98</th>\n",
       "      <td>Ten of the last 11 national polls have shown D...</td>\n",
       "      <td>Zehn der letzten elf nationalen Umfragen haben...</td>\n",
       "    </tr>\n",
       "    <tr>\n",
       "      <th>99</th>\n",
       "      <td>Of course, it's still early in the election cy...</td>\n",
       "      <td>Natürlich ist es noch früh im Wahlzyklus.</td>\n",
       "    </tr>\n",
       "  </tbody>\n",
       "</table>\n",
       "<p>100 rows × 2 columns</p>\n",
       "</div>"
      ],
      "text/plain": [
       "                                               Source  \\\n",
       "0                            Obama receives Netanyahu   \n",
       "1   The relationship between Obama and Netanyahu i...   \n",
       "2   The two wanted to talk about the implementatio...   \n",
       "3   The meeting was also planned to cover the conf...   \n",
       "4   Relations between Obama and Netanyahu have bee...   \n",
       "..                                                ...   \n",
       "95               Others have dismissed him as a joke.   \n",
       "96         And some are holding out for an implosion.   \n",
       "97  But no matter how some Republicans are trying ...   \n",
       "98  Ten of the last 11 national polls have shown D...   \n",
       "99  Of course, it's still early in the election cy...   \n",
       "\n",
       "                                          Translation  \n",
       "0                            Obama empfängt Netanjahu  \n",
       "1   Die Beziehung zwischen Obama und Netanjahu ist...  \n",
       "2   Die beiden wollten über die Umsetzung des inte...  \n",
       "3   Geplant war auch, den Konflikt mit den Palästi...  \n",
       "4   Die Beziehungen zwischen Obama und Netanjahu s...  \n",
       "..                                                ...  \n",
       "95                 Andere haben ihn als Witz abgetan.  \n",
       "96  Und einige halten sich für eine Implosion bereit.  \n",
       "97  Aber egal wie sehr einige Republikaner versuch...  \n",
       "98  Zehn der letzten elf nationalen Umfragen haben...  \n",
       "99          Natürlich ist es noch früh im Wahlzyklus.  \n",
       "\n",
       "[100 rows x 2 columns]"
      ]
     },
     "execution_count": 11,
     "metadata": {},
     "output_type": "execute_result"
    }
   ],
   "source": [
    "import pandas as pd\n",
    "translations = translation_pipeline([f'<2de> {st}' for st in source_texts],**kwargs)\n",
    "translations = [translation['translation_text'] for translation in translations]\n",
    "# 输出翻译结果\n",
    "df = pd.DataFrame({\n",
    "    'Source': source_texts,\n",
    "    'Translation': translations\n",
    "})\n",
    "df"
   ]
  },
  {
   "cell_type": "markdown",
   "id": "6bb0454bef377196",
   "metadata": {
    "collapsed": false
   },
   "source": [
    "使用sacrebleu评价模型"
   ]
  },
  {
   "cell_type": "code",
   "execution_count": 14,
   "id": "f31f8e7e6a19addd",
   "metadata": {
    "ExecuteTime": {
     "end_time": "2024-02-05T05:46:32.323102800Z",
     "start_time": "2024-02-05T05:46:32.277039Z"
    },
    "collapsed": false
   },
   "outputs": [
    {
     "data": {
      "text/plain": [
       "'BLEU Score: 48.32562066513895'"
      ]
     },
     "execution_count": 14,
     "metadata": {},
     "output_type": "execute_result"
    }
   ],
   "source": [
    "import sacrebleu\n",
    "bleu_score = sacrebleu.corpus_bleu(translations, [reference_texts]).score\n",
    "f\"BLEU Score: {bleu_score}\""
   ]
  },
  {
   "cell_type": "markdown",
   "id": "fe8d0e692d351074",
   "metadata": {
    "collapsed": false
   },
   "source": [
    "写入文件"
   ]
  },
  {
   "cell_type": "code",
   "execution_count": 13,
   "id": "1ea7ef64ed08ec44",
   "metadata": {
    "ExecuteTime": {
     "end_time": "2024-02-05T05:46:37.197513900Z",
     "start_time": "2024-02-05T05:46:37.186251900Z"
    },
    "collapsed": false
   },
   "outputs": [],
   "source": [
    "with open(\"./BLEU_result.txt\",\"a\",encoding=\"utf-8\") as f:\n",
    "    f.write(f\"\\n{model_name} {source_lang} {target_lang} {bleu_score}\")"
   ]
  }
 ],
 "metadata": {
  "kernelspec": {
   "display_name": "Python 3",
   "language": "python",
   "name": "python3"
  },
  "language_info": {
   "codemirror_mode": {
    "name": "ipython",
    "version": 3
   },
   "file_extension": ".py",
   "mimetype": "text/x-python",
   "name": "python",
   "nbconvert_exporter": "python",
   "pygments_lexer": "ipython3",
   "version": "3.11.5"
  }
 },
 "nbformat": 4,
 "nbformat_minor": 5
}
